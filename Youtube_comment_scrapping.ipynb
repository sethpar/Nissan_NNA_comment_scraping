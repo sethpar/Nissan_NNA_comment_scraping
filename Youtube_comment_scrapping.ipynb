{
 "cells": [
  {
   "cell_type": "markdown",
   "metadata": {},
   "source": [
    "# Youtube Comment scrapping for 2025 Kicks\n",
    "This documnet contains all the needed code to scrape the the 10 most commented youtube videos comments to do analysis on.\n",
    "\n",
    "This code is adapted from a capstone project done in spring 2023 by Sriram Kannan.\n",
    "\n",
    "The source code can be found __[here](https://github.com/sethpar/Nissan_NNA_comment_scraping/blob/main/Nissan_Segment_List.xlsx)__\n",
    "\n",
    "\n"
   ]
  },
  {
   "cell_type": "markdown",
   "metadata": {},
   "source": [
    "## Envoirment Prep\n",
    "\n",
    "You will need the following libraries to run the following code \n",
    "\n",
    "1. googleapiclient\n",
    "2. pandas\n",
    "1. plotly\n",
    "\n",
    "These only need to be installed on your machine once. To install them remove the \"#\" from the code box below and run the chunk.\n",
    "\n"
   ]
  },
  {
   "cell_type": "code",
   "execution_count": 1,
   "metadata": {},
   "outputs": [],
   "source": [
    "# This code chunk installs the necessary libraries to run the code. This only has to be done once.\n",
    "# To install remove the  '#' from the following 3 lines of code and run the chunk.\n",
    "\n",
    "#%pip install pandas\n",
    "#%pip install google-api-python-client\n",
    "#%pip install plotly"
   ]
  },
  {
   "cell_type": "markdown",
   "metadata": {
    "vscode": {
     "languageId": "plaintext"
    }
   },
   "source": [
    "## Data prep \n",
    "\n",
    "In order to scrape the needed comments an excel file called 'Nissan_Segment_List.xlsx'. An example of this file can be found __[here]( https://github.com/sriram-k96/nissan-capstone_project/blob/main/EV_VehicleSegments.xlsx)__"
   ]
  },
  {
   "cell_type": "code",
   "execution_count": 2,
   "metadata": {},
   "outputs": [],
   "source": [
    "import pandas as pd\n",
    "\n",
    "pd.set_option('display.max_rows', 200)"
   ]
  },
  {
   "cell_type": "code",
   "execution_count": 3,
   "metadata": {},
   "outputs": [
    {
     "data": {
      "application/vnd.microsoft.datawrangler.viewer.v0+json": {
       "columns": [
        {
         "name": "index",
         "rawType": "int64",
         "type": "integer"
        },
        {
         "name": "Segments",
         "rawType": "object",
         "type": "string"
        },
        {
         "name": "Make Model",
         "rawType": "object",
         "type": "string"
        }
       ],
       "conversionMethod": "pd.DataFrame",
       "ref": "c62b4b7f-8ac8-4253-aca3-8f3f5879bc9b",
       "rows": [
        [
         "0",
         "* ENTRY SUV",
         "NISSAN KICKS"
        ]
       ],
       "shape": {
        "columns": 2,
        "rows": 1
       }
      },
      "text/html": [
       "<div>\n",
       "<style scoped>\n",
       "    .dataframe tbody tr th:only-of-type {\n",
       "        vertical-align: middle;\n",
       "    }\n",
       "\n",
       "    .dataframe tbody tr th {\n",
       "        vertical-align: top;\n",
       "    }\n",
       "\n",
       "    .dataframe thead th {\n",
       "        text-align: right;\n",
       "    }\n",
       "</style>\n",
       "<table border=\"1\" class=\"dataframe\">\n",
       "  <thead>\n",
       "    <tr style=\"text-align: right;\">\n",
       "      <th></th>\n",
       "      <th>Segments</th>\n",
       "      <th>Make Model</th>\n",
       "    </tr>\n",
       "  </thead>\n",
       "  <tbody>\n",
       "    <tr>\n",
       "      <th>0</th>\n",
       "      <td>* ENTRY SUV</td>\n",
       "      <td>NISSAN KICKS</td>\n",
       "    </tr>\n",
       "  </tbody>\n",
       "</table>\n",
       "</div>"
      ],
      "text/plain": [
       "      Segments    Make Model\n",
       "0  * ENTRY SUV  NISSAN KICKS"
      ]
     },
     "execution_count": 3,
     "metadata": {},
     "output_type": "execute_result"
    }
   ],
   "source": [
    "# Read in our Excel file as the Dataframe \"segmentdf\"\n",
    "segmentdf = pd.read_excel('Nissan_Segment_List.xlsx', header = 1)\n",
    "# look at the first few rows to ensure dataframe was read correctly\n",
    "segmentdf.head()"
   ]
  },
  {
   "cell_type": "code",
   "execution_count": 4,
   "metadata": {},
   "outputs": [],
   "source": [
    "# Remove asterisks, strip whitespace, and capitalize each word in the 'Segments' column\n",
    "segmentdf['Segments'] = segmentdf['Segments'].apply(lambda x: x.replace('*', '').strip().title())\n",
    "\n",
    "# Replace 'Suv' with 'SUV' in the 'Segments' column\n",
    "segmentdf['Segments'] = segmentdf['Segments'].apply(lambda x: x.replace('Suv', 'SUV'))\n",
    "\n",
    "# Extract the first word from 'Make Model' column and assign it to a new 'Make' column\n",
    "segmentdf['Make'] = segmentdf['Make Model'].str.split().str.get(0)\n",
    "\n",
    "# Remove the first word from 'Make Model' and keep the rest as the new 'Make Model'\n",
    "segmentdf['Make Model'] = segmentdf['Make Model'].str.split().str.slice(1).str.join(' ')\n",
    "\n",
    "# Rename columns: 'Make Model' to 'Model' and 'Segments' to 'Segment'\n",
    "segmentdf = segmentdf.rename(columns={'Make Model': 'Model', 'Segments': 'Segment'})\n",
    "\n",
    "# Reorder columns to 'Segment', 'Make', and 'Model'\n",
    "segmentdf = segmentdf[['Segment', 'Make', 'Model']]\n",
    "\n",
    "# Capitalize the first letter of each word in the 'Make' column\n",
    "segmentdf['Make'] = segmentdf['Make'].apply(lambda x: x.capitalize())\n",
    "\n",
    "# Capitalize the first letter of each word in the 'Model' column\n",
    "segmentdf['Model'] = segmentdf['Model'].apply(lambda x: x.capitalize())\n"
   ]
  },
  {
   "cell_type": "code",
   "execution_count": 5,
   "metadata": {},
   "outputs": [
    {
     "data": {
      "text/plain": [
       "Segment\n",
       "Entry SUV    1\n",
       "Name: count, dtype: int64"
      ]
     },
     "execution_count": 5,
     "metadata": {},
     "output_type": "execute_result"
    }
   ],
   "source": [
    "# Count the number of vechicles in each segment\n",
    "segmentdf['Segment'].value_counts()"
   ]
  },
  {
   "cell_type": "code",
   "execution_count": 6,
   "metadata": {},
   "outputs": [],
   "source": [
    "# Output segmentdf as an excel file\n",
    "segmentdf.to_excel('VehicleSegments.xlsx')"
   ]
  },
  {
   "cell_type": "code",
   "execution_count": 7,
   "metadata": {},
   "outputs": [],
   "source": [
    "# Read in VehicleSegments.xlsx to ensure it reads correctly\n",
    "df = pd.read_excel('VehicleSegments.xlsx')\n",
    "# Drop unused row\n",
    "df.drop('Unnamed: 0', axis = 1, inplace = True)"
   ]
  },
  {
   "cell_type": "code",
   "execution_count": 8,
   "metadata": {},
   "outputs": [
    {
     "data": {
      "application/vnd.plotly.v1+json": {
       "config": {
        "plotlyServerURL": "https://plot.ly"
       },
       "data": [
        {
         "cells": {
          "align": "left",
          "values": [
           [
            "Nissan"
           ],
           [
            "Kicks"
           ]
          ]
         },
         "header": {
          "align": "left",
          "values": [
           "Make",
           "Model"
          ]
         },
         "type": "table"
        }
       ],
       "layout": {
        "template": {
         "data": {
          "bar": [
           {
            "error_x": {
             "color": "#2a3f5f"
            },
            "error_y": {
             "color": "#2a3f5f"
            },
            "marker": {
             "line": {
              "color": "#E5ECF6",
              "width": 0.5
             },
             "pattern": {
              "fillmode": "overlay",
              "size": 10,
              "solidity": 0.2
             }
            },
            "type": "bar"
           }
          ],
          "barpolar": [
           {
            "marker": {
             "line": {
              "color": "#E5ECF6",
              "width": 0.5
             },
             "pattern": {
              "fillmode": "overlay",
              "size": 10,
              "solidity": 0.2
             }
            },
            "type": "barpolar"
           }
          ],
          "carpet": [
           {
            "aaxis": {
             "endlinecolor": "#2a3f5f",
             "gridcolor": "white",
             "linecolor": "white",
             "minorgridcolor": "white",
             "startlinecolor": "#2a3f5f"
            },
            "baxis": {
             "endlinecolor": "#2a3f5f",
             "gridcolor": "white",
             "linecolor": "white",
             "minorgridcolor": "white",
             "startlinecolor": "#2a3f5f"
            },
            "type": "carpet"
           }
          ],
          "choropleth": [
           {
            "colorbar": {
             "outlinewidth": 0,
             "ticks": ""
            },
            "type": "choropleth"
           }
          ],
          "contour": [
           {
            "colorbar": {
             "outlinewidth": 0,
             "ticks": ""
            },
            "colorscale": [
             [
              0,
              "#0d0887"
             ],
             [
              0.1111111111111111,
              "#46039f"
             ],
             [
              0.2222222222222222,
              "#7201a8"
             ],
             [
              0.3333333333333333,
              "#9c179e"
             ],
             [
              0.4444444444444444,
              "#bd3786"
             ],
             [
              0.5555555555555556,
              "#d8576b"
             ],
             [
              0.6666666666666666,
              "#ed7953"
             ],
             [
              0.7777777777777778,
              "#fb9f3a"
             ],
             [
              0.8888888888888888,
              "#fdca26"
             ],
             [
              1,
              "#f0f921"
             ]
            ],
            "type": "contour"
           }
          ],
          "contourcarpet": [
           {
            "colorbar": {
             "outlinewidth": 0,
             "ticks": ""
            },
            "type": "contourcarpet"
           }
          ],
          "heatmap": [
           {
            "colorbar": {
             "outlinewidth": 0,
             "ticks": ""
            },
            "colorscale": [
             [
              0,
              "#0d0887"
             ],
             [
              0.1111111111111111,
              "#46039f"
             ],
             [
              0.2222222222222222,
              "#7201a8"
             ],
             [
              0.3333333333333333,
              "#9c179e"
             ],
             [
              0.4444444444444444,
              "#bd3786"
             ],
             [
              0.5555555555555556,
              "#d8576b"
             ],
             [
              0.6666666666666666,
              "#ed7953"
             ],
             [
              0.7777777777777778,
              "#fb9f3a"
             ],
             [
              0.8888888888888888,
              "#fdca26"
             ],
             [
              1,
              "#f0f921"
             ]
            ],
            "type": "heatmap"
           }
          ],
          "histogram": [
           {
            "marker": {
             "pattern": {
              "fillmode": "overlay",
              "size": 10,
              "solidity": 0.2
             }
            },
            "type": "histogram"
           }
          ],
          "histogram2d": [
           {
            "colorbar": {
             "outlinewidth": 0,
             "ticks": ""
            },
            "colorscale": [
             [
              0,
              "#0d0887"
             ],
             [
              0.1111111111111111,
              "#46039f"
             ],
             [
              0.2222222222222222,
              "#7201a8"
             ],
             [
              0.3333333333333333,
              "#9c179e"
             ],
             [
              0.4444444444444444,
              "#bd3786"
             ],
             [
              0.5555555555555556,
              "#d8576b"
             ],
             [
              0.6666666666666666,
              "#ed7953"
             ],
             [
              0.7777777777777778,
              "#fb9f3a"
             ],
             [
              0.8888888888888888,
              "#fdca26"
             ],
             [
              1,
              "#f0f921"
             ]
            ],
            "type": "histogram2d"
           }
          ],
          "histogram2dcontour": [
           {
            "colorbar": {
             "outlinewidth": 0,
             "ticks": ""
            },
            "colorscale": [
             [
              0,
              "#0d0887"
             ],
             [
              0.1111111111111111,
              "#46039f"
             ],
             [
              0.2222222222222222,
              "#7201a8"
             ],
             [
              0.3333333333333333,
              "#9c179e"
             ],
             [
              0.4444444444444444,
              "#bd3786"
             ],
             [
              0.5555555555555556,
              "#d8576b"
             ],
             [
              0.6666666666666666,
              "#ed7953"
             ],
             [
              0.7777777777777778,
              "#fb9f3a"
             ],
             [
              0.8888888888888888,
              "#fdca26"
             ],
             [
              1,
              "#f0f921"
             ]
            ],
            "type": "histogram2dcontour"
           }
          ],
          "mesh3d": [
           {
            "colorbar": {
             "outlinewidth": 0,
             "ticks": ""
            },
            "type": "mesh3d"
           }
          ],
          "parcoords": [
           {
            "line": {
             "colorbar": {
              "outlinewidth": 0,
              "ticks": ""
             }
            },
            "type": "parcoords"
           }
          ],
          "pie": [
           {
            "automargin": true,
            "type": "pie"
           }
          ],
          "scatter": [
           {
            "fillpattern": {
             "fillmode": "overlay",
             "size": 10,
             "solidity": 0.2
            },
            "type": "scatter"
           }
          ],
          "scatter3d": [
           {
            "line": {
             "colorbar": {
              "outlinewidth": 0,
              "ticks": ""
             }
            },
            "marker": {
             "colorbar": {
              "outlinewidth": 0,
              "ticks": ""
             }
            },
            "type": "scatter3d"
           }
          ],
          "scattercarpet": [
           {
            "marker": {
             "colorbar": {
              "outlinewidth": 0,
              "ticks": ""
             }
            },
            "type": "scattercarpet"
           }
          ],
          "scattergeo": [
           {
            "marker": {
             "colorbar": {
              "outlinewidth": 0,
              "ticks": ""
             }
            },
            "type": "scattergeo"
           }
          ],
          "scattergl": [
           {
            "marker": {
             "colorbar": {
              "outlinewidth": 0,
              "ticks": ""
             }
            },
            "type": "scattergl"
           }
          ],
          "scattermap": [
           {
            "marker": {
             "colorbar": {
              "outlinewidth": 0,
              "ticks": ""
             }
            },
            "type": "scattermap"
           }
          ],
          "scattermapbox": [
           {
            "marker": {
             "colorbar": {
              "outlinewidth": 0,
              "ticks": ""
             }
            },
            "type": "scattermapbox"
           }
          ],
          "scatterpolar": [
           {
            "marker": {
             "colorbar": {
              "outlinewidth": 0,
              "ticks": ""
             }
            },
            "type": "scatterpolar"
           }
          ],
          "scatterpolargl": [
           {
            "marker": {
             "colorbar": {
              "outlinewidth": 0,
              "ticks": ""
             }
            },
            "type": "scatterpolargl"
           }
          ],
          "scatterternary": [
           {
            "marker": {
             "colorbar": {
              "outlinewidth": 0,
              "ticks": ""
             }
            },
            "type": "scatterternary"
           }
          ],
          "surface": [
           {
            "colorbar": {
             "outlinewidth": 0,
             "ticks": ""
            },
            "colorscale": [
             [
              0,
              "#0d0887"
             ],
             [
              0.1111111111111111,
              "#46039f"
             ],
             [
              0.2222222222222222,
              "#7201a8"
             ],
             [
              0.3333333333333333,
              "#9c179e"
             ],
             [
              0.4444444444444444,
              "#bd3786"
             ],
             [
              0.5555555555555556,
              "#d8576b"
             ],
             [
              0.6666666666666666,
              "#ed7953"
             ],
             [
              0.7777777777777778,
              "#fb9f3a"
             ],
             [
              0.8888888888888888,
              "#fdca26"
             ],
             [
              1,
              "#f0f921"
             ]
            ],
            "type": "surface"
           }
          ],
          "table": [
           {
            "cells": {
             "fill": {
              "color": "#EBF0F8"
             },
             "line": {
              "color": "white"
             }
            },
            "header": {
             "fill": {
              "color": "#C8D4E3"
             },
             "line": {
              "color": "white"
             }
            },
            "type": "table"
           }
          ]
         },
         "layout": {
          "annotationdefaults": {
           "arrowcolor": "#2a3f5f",
           "arrowhead": 0,
           "arrowwidth": 1
          },
          "autotypenumbers": "strict",
          "coloraxis": {
           "colorbar": {
            "outlinewidth": 0,
            "ticks": ""
           }
          },
          "colorscale": {
           "diverging": [
            [
             0,
             "#8e0152"
            ],
            [
             0.1,
             "#c51b7d"
            ],
            [
             0.2,
             "#de77ae"
            ],
            [
             0.3,
             "#f1b6da"
            ],
            [
             0.4,
             "#fde0ef"
            ],
            [
             0.5,
             "#f7f7f7"
            ],
            [
             0.6,
             "#e6f5d0"
            ],
            [
             0.7,
             "#b8e186"
            ],
            [
             0.8,
             "#7fbc41"
            ],
            [
             0.9,
             "#4d9221"
            ],
            [
             1,
             "#276419"
            ]
           ],
           "sequential": [
            [
             0,
             "#0d0887"
            ],
            [
             0.1111111111111111,
             "#46039f"
            ],
            [
             0.2222222222222222,
             "#7201a8"
            ],
            [
             0.3333333333333333,
             "#9c179e"
            ],
            [
             0.4444444444444444,
             "#bd3786"
            ],
            [
             0.5555555555555556,
             "#d8576b"
            ],
            [
             0.6666666666666666,
             "#ed7953"
            ],
            [
             0.7777777777777778,
             "#fb9f3a"
            ],
            [
             0.8888888888888888,
             "#fdca26"
            ],
            [
             1,
             "#f0f921"
            ]
           ],
           "sequentialminus": [
            [
             0,
             "#0d0887"
            ],
            [
             0.1111111111111111,
             "#46039f"
            ],
            [
             0.2222222222222222,
             "#7201a8"
            ],
            [
             0.3333333333333333,
             "#9c179e"
            ],
            [
             0.4444444444444444,
             "#bd3786"
            ],
            [
             0.5555555555555556,
             "#d8576b"
            ],
            [
             0.6666666666666666,
             "#ed7953"
            ],
            [
             0.7777777777777778,
             "#fb9f3a"
            ],
            [
             0.8888888888888888,
             "#fdca26"
            ],
            [
             1,
             "#f0f921"
            ]
           ]
          },
          "colorway": [
           "#636efa",
           "#EF553B",
           "#00cc96",
           "#ab63fa",
           "#FFA15A",
           "#19d3f3",
           "#FF6692",
           "#B6E880",
           "#FF97FF",
           "#FECB52"
          ],
          "font": {
           "color": "#2a3f5f"
          },
          "geo": {
           "bgcolor": "white",
           "lakecolor": "white",
           "landcolor": "#E5ECF6",
           "showlakes": true,
           "showland": true,
           "subunitcolor": "white"
          },
          "hoverlabel": {
           "align": "left"
          },
          "hovermode": "closest",
          "mapbox": {
           "style": "light"
          },
          "paper_bgcolor": "white",
          "plot_bgcolor": "#E5ECF6",
          "polar": {
           "angularaxis": {
            "gridcolor": "white",
            "linecolor": "white",
            "ticks": ""
           },
           "bgcolor": "#E5ECF6",
           "radialaxis": {
            "gridcolor": "white",
            "linecolor": "white",
            "ticks": ""
           }
          },
          "scene": {
           "xaxis": {
            "backgroundcolor": "#E5ECF6",
            "gridcolor": "white",
            "gridwidth": 2,
            "linecolor": "white",
            "showbackground": true,
            "ticks": "",
            "zerolinecolor": "white"
           },
           "yaxis": {
            "backgroundcolor": "#E5ECF6",
            "gridcolor": "white",
            "gridwidth": 2,
            "linecolor": "white",
            "showbackground": true,
            "ticks": "",
            "zerolinecolor": "white"
           },
           "zaxis": {
            "backgroundcolor": "#E5ECF6",
            "gridcolor": "white",
            "gridwidth": 2,
            "linecolor": "white",
            "showbackground": true,
            "ticks": "",
            "zerolinecolor": "white"
           }
          },
          "shapedefaults": {
           "line": {
            "color": "#2a3f5f"
           }
          },
          "ternary": {
           "aaxis": {
            "gridcolor": "white",
            "linecolor": "white",
            "ticks": ""
           },
           "baxis": {
            "gridcolor": "white",
            "linecolor": "white",
            "ticks": ""
           },
           "bgcolor": "#E5ECF6",
           "caxis": {
            "gridcolor": "white",
            "linecolor": "white",
            "ticks": ""
           }
          },
          "title": {
           "x": 0.05
          },
          "xaxis": {
           "automargin": true,
           "gridcolor": "white",
           "linecolor": "white",
           "ticks": "",
           "title": {
            "standoff": 15
           },
           "zerolinecolor": "white",
           "zerolinewidth": 2
          },
          "yaxis": {
           "automargin": true,
           "gridcolor": "white",
           "linecolor": "white",
           "ticks": "",
           "title": {
            "standoff": 15
           },
           "zerolinecolor": "white",
           "zerolinewidth": 2
          }
         }
        }
       }
      }
     },
     "metadata": {},
     "output_type": "display_data"
    }
   ],
   "source": [
    "# Create a plot that shows the segement and make model of one random row\n",
    "import plotly.graph_objects as go\n",
    "tab4 = df.sample(1)\n",
    "fig = go.Figure(data=[go.Table(\n",
    "    header=dict(values=list(('Make', 'Model')),\n",
    "                #fill_color='paleturquoise',\n",
    "                align='left'),\n",
    "    cells=dict(values=[tab4.Make, tab4.Model],\n",
    "               #fill_color='lavender',\n",
    "               align='left'))\n",
    "])\n",
    "\n",
    "fig.show()"
   ]
  },
  {
   "cell_type": "markdown",
   "metadata": {},
   "source": [
    "## Scrape Youtube Comments\n",
    "This section of this notebook gives the code of how to scrape comments from youtube.\n",
    "This is done by finding the 10 most commented video for each year, make and model. Then scraping all comments and replies from said videos."
   ]
  },
  {
   "cell_type": "markdown",
   "metadata": {},
   "source": [
    "This first chunk of code is the set-up. \n",
    "We first load in googleapiclient which let's us find and scrape videos.\n",
    "We then set the API key to the API we want to us.(More about this later)\n",
    "Then we build a Youtube service object(this lets)\n"
   ]
  },
  {
   "cell_type": "code",
   "execution_count": null,
   "metadata": {},
   "outputs": [],
   "source": [
    "from googleapiclient.discovery import build\n",
    "\n",
    "pd.set_option('display.max_rows', 500)\n",
    "# Assign your YouTube API key to the variable 'api_key'\n",
    "api_key = 'Put_key_Here' \n",
    "# Build a YouTube service object using the API key\n",
    "youtube = build('youtube', 'v3', developerKey=api_key)"
   ]
  },
  {
   "cell_type": "code",
   "execution_count": null,
   "metadata": {},
   "outputs": [],
   "source": [
    "# Create a list containing all model years, if you want more then one it should look like ['2023','2024','2025']\n",
    "year_list = ['2025']\n",
    "\n",
    "# Read the Excel file 'VehicleSegments.xlsx' into a DataFrame\n",
    "segmentdf = pd.read_excel('VehicleSegments.xlsx')\n",
    "\n",
    "# Drop the column named 'Unnamed: 0' from the DataFrame\n",
    "segmentdf.drop('Unnamed: 0', axis=1, inplace=True)\n",
    "\n",
    "# Display the DataFrame\n",
    "segmentdf"
   ]
  },
  {
   "cell_type": "code",
   "execution_count": null,
   "metadata": {},
   "outputs": [],
   "source": [
    "#Remove EVs to Optimize Youtube Queries\n",
    "#If you need to find EVs replace first line with \"seg2 = segmentdf\"\n",
    "#Remove duplicated Grand Cherokee from Midsize SUV\n",
    "seg2 = segmentdf.drop(segmentdf[(segmentdf['Model'] == 'Ariya') | (segmentdf['Model'] == 'Leaf') | (segmentdf['Model'] == 'C-hr') | (segmentdf['Model'] == 'Bz4x') | (segmentdf['Model'] == 'Bolt') | (segmentdf['Model'] == 'Ioniq') | (segmentdf['Model'] == 'Ioniq 5') | (segmentdf['Model'] == 'Ev6') | (segmentdf['Model'] == 'Nexo') | (segmentdf['Model'] == 'Ram') | (segmentdf['Model'] == 'R1t launch') | (segmentdf['Model'] == 'Endurance') | (segmentdf['Model'] == 'Solterra') | (segmentdf['Model'] == 'Mustang mach-e') | (segmentdf['Model'] == 'Hummer') | (segmentdf['Model'] == 'Id4')].index)\n",
    "seg2 = seg2.reset_index()\n",
    "seg2.drop('index', axis = 1, inplace = True)"
   ]
  },
  {
   "cell_type": "markdown",
   "metadata": {},
   "source": [
    "Count the number of models each make has."
   ]
  },
  {
   "cell_type": "code",
   "execution_count": null,
   "metadata": {},
   "outputs": [],
   "source": [
    "seg2[\"Make\"].value_counts()"
   ]
  },
  {
   "cell_type": "markdown",
   "metadata": {},
   "source": [
    "The following code only applies if you want to compare many makes and models. You can replace \"Ford\" and \"Honda\" with any make the splits your list in half"
   ]
  },
  {
   "cell_type": "code",
   "execution_count": null,
   "metadata": {},
   "outputs": [],
   "source": [
    "#Youtube API per account cannot handle all models to be scraped at once. So they need to be segregated as shown below. \n",
    "#Safest way is to do it one at a time and then switch api key to different accounts.\n",
    "#Use below code to systematically generate files as per make and then merge them in the end. \n",
    "#segloc = seg2.loc[(seg2['Make'] == \"Ford\") | (seg2['Make'] == \"Honda\")]"
   ]
  },
  {
   "cell_type": "code",
   "execution_count": null,
   "metadata": {},
   "outputs": [],
   "source": [
    "# Initialize an empty list to store queries\n",
    "query_list = []\n",
    "\n",
    "# Iterate over each year in year_list\n",
    "for i in year_list:\n",
    "    # Iterate over each model in the 'Model' column of seg2 DataFrame\n",
    "    for j in seg2[\"Model\"]:\n",
    "        # Construct a query string with the format 'Make Model Year'\n",
    "        query = seg2.loc[seg2[\"Model\"] == j][\"Make\"].tolist()[0] + ' ' + j + ' ' + str(i)\n",
    "        # Append the constructed query to the query_list\n",
    "        query_list.append(query)"
   ]
  },
  {
   "cell_type": "markdown",
   "metadata": {},
   "source": [
    "Show all vechicles queried"
   ]
  },
  {
   "cell_type": "code",
   "execution_count": null,
   "metadata": {},
   "outputs": [],
   "source": [
    "query_list"
   ]
  },
  {
   "cell_type": "markdown",
   "metadata": {},
   "source": [
    "Can be used to get the list of URLs to be scraped - Choose ones with maximum comments to maintain efficiency of queries. \n",
    "\n",
    "But this process is incredibly intensive on the quota and has to be used sparingly. \n",
    "\n",
    "Hence a combination of this and manual process of searching and grabbing URLs directly from youtube were used. \n",
    "\n",
    "Scaling this requires permission from Google which can be done by the organization if required through increasing Quota limits substantially.\n",
    "\n",
    "10000 points per day is inadequate. \n",
    "\n",
    "Only 2025 will be considered here based on our year list"
   ]
  },
  {
   "cell_type": "code",
   "execution_count": null,
   "metadata": {},
   "outputs": [],
   "source": [
    "# Initialize an empty list to store URLs and video details\n",
    "urls = []\n",
    "\n",
    "# Iterate over each query in query_list\n",
    "for i in query_list:\n",
    "    # Perform a YouTube search with the query and get the response\n",
    "    search_response = youtube.search().list(q=i, part='id,snippet', maxResults=10).execute()\n",
    "    \n",
    "    # Extract video IDs from the search response\n",
    "    video_ids = [search_result['id']['videoId'] for search_result in search_response.get('items', [])]\n",
    "    \n",
    "    # Get detailed information about the videos using the video IDs\n",
    "    video_response = youtube.videos().list(id=','.join(video_ids), part='id,snippet,statistics').execute()\n",
    "    \n",
    "    try:\n",
    "        # Iterate over each video result in the video response\n",
    "        for video_result in video_response.get('items', []):\n",
    "            # Extract the video title\n",
    "            title = video_result['snippet']['title']\n",
    "            \n",
    "            # Construct the video URL\n",
    "            url = f'https://www.youtube.com/watch?v={video_result[\"id\"]}'\n",
    "            \n",
    "            # Extract the video ID\n",
    "            video_id = video_result[\"id\"]\n",
    "            \n",
    "            # Extract the view count\n",
    "            view_count = video_result['statistics']['viewCount']\n",
    "            \n",
    "            # Extract the comment count\n",
    "            comment_count = video_result['statistics']['commentCount']\n",
    "            \n",
    "            # Append the query, title, URL, video ID, view count, and comment count to the urls list\n",
    "            urls.append((i, title, url, video_id, view_count, comment_count))\n",
    "    except:\n",
    "        # Print the query if an exception occurs\n",
    "        print(i)\n",
    "        continue\n",
    "\n",
    "# Create a DataFrame from the urls list with specified column names\n",
    "yturl_df = pd.DataFrame(urls, columns=['Query', 'Title', 'URL', 'VideoID', 'ViewCount', 'Comment_Count'])"
   ]
  },
  {
   "cell_type": "markdown",
   "metadata": {},
   "source": [
    "Now lets find the videos with the most comments for each vehicle."
   ]
  },
  {
   "cell_type": "code",
   "execution_count": null,
   "metadata": {},
   "outputs": [],
   "source": [
    "yturl_df['Comment_Count'] = yturl_df['Comment_Count'].astype(int)\n",
    "#Taking only the top result by comments. Due to a large number of vehicles over 2 years, this needs to be done to stay within query limits\n",
    "yturl_df_top = yturl_df.groupby('Query').apply(lambda x: x.nlargest(10, 'Comment_Count')).reset_index(drop=True)\n",
    "#Removing duplicate results - Sometimes same results come up as top results for similar queries - Unpopular vehicles for both year queries for instance\n",
    "#Needs to be done to avoid duplicating scraping. \n",
    "yturl_df_top = yturl_df_top.drop(yturl_df_top[yturl_df_top.drop('Query', axis = 1).duplicated()].index)"
   ]
  },
  {
   "cell_type": "markdown",
   "metadata": {},
   "source": [
    "Now let look at the videos"
   ]
  },
  {
   "cell_type": "code",
   "execution_count": null,
   "metadata": {},
   "outputs": [],
   "source": [
    "yturl_df_top"
   ]
  },
  {
   "cell_type": "markdown",
   "metadata": {},
   "source": [
    "Now for each video we are going to create a list of its comments and replies."
   ]
  },
  {
   "cell_type": "code",
   "execution_count": null,
   "metadata": {},
   "outputs": [],
   "source": [
    "# Initialize empty lists to store replies and comments\n",
    "replies = []\n",
    "comments = []\n",
    "\n",
    "# Iterate over each video ID in the 'VideoID' column of yturl_df_top DataFrame\n",
    "for vid in yturl_df_top['VideoID']:\n",
    "    # Get the comment threads for the video\n",
    "    video_response = youtube.commentThreads().list(part='snippet,replies', videoId=vid).execute()\n",
    "    \n",
    "    # Get the corresponding model for the video ID\n",
    "    model = yturl_df_top.loc[yturl_df_top[\"VideoID\"] == vid][\"Query\"].tolist()[0]\n",
    "    \n",
    "    # Construct the video URL\n",
    "    url = 'https://www.youtube.com/watch?v=' + vid\n",
    "    \n",
    "    # Get the video title\n",
    "    title = yturl_df_top.loc[yturl_df_top[\"VideoID\"] == vid][\"Title\"].tolist()[0]\n",
    "    \n",
    "    while video_response:\n",
    "        # Iterate over each item in the video response\n",
    "        for item in video_response['items']:\n",
    "            # Extract the top-level comment\n",
    "            comment = item['snippet']['topLevelComment']['snippet']['textDisplay']\n",
    "            \n",
    "            # Get the total number of replies to the comment\n",
    "            replycount = item['snippet']['totalReplyCount']\n",
    "            \n",
    "            try:\n",
    "                # If there are replies, extract each reply\n",
    "                if replycount > 0:\n",
    "                    for reply in item['replies']['comments']:\n",
    "                        # Extract the reply text\n",
    "                        reply = reply['snippet']['textDisplay']\n",
    "                        replies.append(reply)\n",
    "            except:\n",
    "                # Print an error message if there is an issue with extracting replies\n",
    "                print('Reply Err')\n",
    " \n",
    "            # If there are no replies, set replies to \"None\"\n",
    "            if replies == list():\n",
    "                replies = \"None\"\n",
    "            \n",
    "            # Append the model, comment, replies, title, and URL to the comments list\n",
    "            comments.append((model, comment, replies, title, url))\n",
    "            \n",
    "            # Reset the replies list for the next comment\n",
    "            replies = []\n",
    " \n",
    "        # Check if there is a next page of comments\n",
    "        if 'nextPageToken' in video_response:\n",
    "            # Get the next page of comments\n",
    "            video_response = youtube.commentThreads().list(part='snippet,replies', videoId=vid, \n",
    "                                                           pageToken=video_response['nextPageToken']).execute()\n",
    "        else:\n",
    "            # Break the loop if there are no more pages\n",
    "            break"
   ]
  },
  {
   "cell_type": "markdown",
   "metadata": {},
   "source": [
    "Now make a datafrane with the comments and make it a CSV"
   ]
  },
  {
   "cell_type": "code",
   "execution_count": null,
   "metadata": {},
   "outputs": [],
   "source": [
    "df = pd.DataFrame(comments, columns = ['Model', 'Comments', 'Replies', 'Video Title', 'URL'])\n",
    "df.to_csv('YoutubeComments.csv')"
   ]
  },
  {
   "cell_type": "markdown",
   "metadata": {},
   "source": [
    "Below is a way to concatinate all comments if each CSV was created for each manufaturer."
   ]
  },
  {
   "cell_type": "code",
   "execution_count": null,
   "metadata": {},
   "outputs": [],
   "source": [
    "#These files were generated one at a time. \n",
    "#df1 = pd.read_csv('YoutubeCommentsHyundai_Kia.csv')\n",
    "#df2 = pd.read_csv('YoutubeCommentsFord_Honda.csv')\n",
    "#df3 = pd.read_csv('YoutubeCommentsToyota.csv')\n",
    "#df4 = pd.read_csv('YoutubeCommentsNissan.csv')\n",
    "#df5 = pd.read_csv('YoutubeCommentsBuick_Porsche_Gmc.csv')\n",
    "#df6 = pd.read_csv('YoutubeCommentsVolkswagen.csv')\n",
    "#df7 = pd.read_csv('YoutubeCommentsChevrolet.csv')\n",
    "#df8 = pd.read_csv('YoutubeCommentsSubaru_Mazda.csv')\n",
    "#df9 = pd.read_csv('YoutubeCommentsLast6Make.csv')\n",
    "#df10 = pd.read_csv('YoutubeCommentsJeep.csv')\n",
    "#df = pd.concat([df1, df2, df3, df4, df5, df6, df7, df8, df9, df10]).reset_index()\n",
    "#df.drop(['index', 'Unnamed: 0'], axis = 1, inplace = True)\n",
    "#df.to_csv('YoutubeComments.csv')"
   ]
  },
  {
   "cell_type": "markdown",
   "metadata": {},
   "source": [
    "Now combine the Youtube and Vechicle segment csvs"
   ]
  },
  {
   "cell_type": "code",
   "execution_count": null,
   "metadata": {},
   "outputs": [],
   "source": [
    "# Read the CSV file 'YoutubeComments.csv' into a DataFrame\n",
    "df = pd.read_csv('YoutubeComments.csv')\n",
    "\n",
    "# Drop the column named 'Unnamed: 0' from the DataFrame\n",
    "df.drop('Unnamed: 0', axis=1, inplace=True)\n",
    "\n",
    "# Extract the first word from the 'Model' column and assign it to a new 'Make' column\n",
    "df['Make'] = df['Model'].str.split().str.get(0)\n",
    "\n",
    "# Extract the third word from the 'Model' column and assign it to a new 'Year' column\n",
    "df['Year'] = df['Model'].str.split().str.get(2)\n",
    "\n",
    "# Extract the second word from the 'Model' column and keep it as the new 'Model' column\n",
    "df['Model'] = df['Model'].str.split().str.get(1)\n",
    "\n",
    "# Read the Excel file 'VehicleSegments.xlsx' into a DataFrame\n",
    "df2 = pd.read_excel('VehicleSegments.xlsx')\n",
    "\n",
    "# Drop the column named 'Unnamed: 0' from the DataFrame\n",
    "df2.drop('Unnamed: 0', axis=1, inplace=True)\n",
    "\n",
    "# Merge the two DataFrames on the 'Make' and 'Model' columns\n",
    "df_full = pd.merge(df, df2, on=[\"Make\", \"Model\"])\n",
    "\n",
    "# Select and reorder the columns in the merged DataFrame\n",
    "df_full = df_full[['Segment', 'Make', 'Model', 'Year', 'Comments', 'Replies', 'Video Title', 'URL']]\n",
    "\n",
    "# Calculate the word count of each comment and assign it to a new 'Word Count' column\n",
    "df_full['Word Count'] = df_full['Comments'].str.split(' ').str.len()\n",
    "\n",
    "# Save as a csv\n",
    "df_full.to_csv('YoutubeCommentsFull.csv')"
   ]
  },
  {
   "cell_type": "code",
   "execution_count": null,
   "metadata": {},
   "outputs": [],
   "source": [
    "# Head dataframe to ensure it looks correct\n",
    "df_full.head()"
   ]
  },
  {
   "cell_type": "code",
   "execution_count": null,
   "metadata": {},
   "outputs": [],
   "source": [
    "# Reset the index of the DataFrame and assign it to df_final\n",
    "df_final = df_full.reset_index()\n",
    "\n",
    "# Drop the 'index' column from the DataFrame\n",
    "df_final.drop('index', axis=1, inplace=True)\n",
    "\n",
    "# Remove duplicate rows from the DataFrame\n",
    "df_final = df_final.drop_duplicates()\n",
    "\n",
    "# Save the DataFrame to a CSV file named 'YoutubeComments_40_InfoRich.csv'\n",
    "df_final.to_csv('YoutubeComments_40_InfoRich.csv')"
   ]
  },
  {
   "cell_type": "code",
   "execution_count": null,
   "metadata": {},
   "outputs": [],
   "source": [
    "# Count the occurrences of each unique value in the 'Make' column and display the results\n",
    "df_final['Make'].value_counts()"
   ]
  },
  {
   "cell_type": "code",
   "execution_count": null,
   "metadata": {},
   "outputs": [],
   "source": [
    "#DEBUG\n",
    "#Check if all replies which are list of lists + comments add up to total comments in the YT Video.\n",
    "#[len(i) for i in list(df.loc[df[\"Replies\"] != 'None']['Replies'])]"
   ]
  },
  {
   "cell_type": "markdown",
   "metadata": {},
   "source": [
    "## Setting up google API key\n",
    "\n",
    "When this documnet is first released there is an API Key created by Seth Young that will be avaible. If multple people want to use this code at the same time OR the key expires. The following is the steps needed to create a new google API key."
   ]
  },
  {
   "cell_type": "markdown",
   "metadata": {},
   "source": [
    "1. Go to https://cloud.google.com/.\n",
    "1. Click Start Free in top right corner.\n",
    "1. Create a new google account.\n",
    "1. After your new account is made and set-up Click console is top right corner.\n",
    "1. In the top middle search bar, search \"YouTube Data API v3\"\n",
    "1. click \"Manage\"\n",
    "1. Then click \"Credentials\"\n",
    "1. Then on the middle left click \"Create Credentials\" then \"API key\"\n",
    "1. You will then be shown a pop-up with your API key click \"copy\" then done\n",
    "1. After than you can paste the API key in the code above."
   ]
  }
 ],
 "metadata": {
  "kernelspec": {
   "display_name": ".venv",
   "language": "python",
   "name": "python3"
  },
  "language_info": {
   "codemirror_mode": {
    "name": "ipython",
    "version": 3
   },
   "file_extension": ".py",
   "mimetype": "text/x-python",
   "name": "python",
   "nbconvert_exporter": "python",
   "pygments_lexer": "ipython3",
   "version": "3.13.0"
  }
 },
 "nbformat": 4,
 "nbformat_minor": 2
}
